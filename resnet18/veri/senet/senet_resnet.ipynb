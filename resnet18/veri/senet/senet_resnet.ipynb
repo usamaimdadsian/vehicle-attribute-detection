{
 "cells": [
  {
   "cell_type": "code",
   "execution_count": 1,
   "metadata": {},
   "outputs": [],
   "source": [
    "import os, torch\n",
    "from xml.etree import ElementTree as ET\n",
    "from torch.utils.data import Dataset,DataLoader,random_split\n",
    "import torch.nn as nn\n",
    "from torchvision import transforms, models\n",
    "from PIL import Image\n",
    "import matplotlib.pyplot as plt\n",
    "import torch.optim as optim\n",
    "from senet import se_resnet18"
   ]
  },
  {
   "cell_type": "code",
   "execution_count": 3,
   "metadata": {},
   "outputs": [],
   "source": [
    "FOLDER_DATASET = \"/home/kk/Desktop/usama/datasets/VeRi\"\n",
    "DEVICE = torch.device(\"cuda\" if torch.cuda.is_available() else \"cpu\")\n",
    "BATCH_SIZE = 32\n",
    "NUM_CLASSES = 10\n",
    "EPOCHS = 15"
   ]
  },
  {
   "cell_type": "code",
   "execution_count": 4,
   "metadata": {},
   "outputs": [
    {
     "name": "stdout",
     "output_type": "stream",
     "text": [
      "cuda\n"
     ]
    }
   ],
   "source": [
    "print(DEVICE)"
   ]
  },
  {
   "cell_type": "markdown",
   "metadata": {},
   "source": [
    "# Implementations"
   ]
  },
  {
   "cell_type": "code",
   "execution_count": 5,
   "metadata": {},
   "outputs": [],
   "source": [
    "def test_accuracy(model, test_loader):\n",
    "  with torch.no_grad():\n",
    "      total_correct = 0\n",
    "      total_samples = 0\n",
    "      for images, labels in test_loader:\n",
    "          images, labels = images.to(DEVICE), labels.to(DEVICE)\n",
    "          outputs = model(images)\n",
    "          _, predicted = torch.max(outputs, 1)\n",
    "          total_correct += (predicted == labels).sum().item()\n",
    "          total_samples += labels.size(0)\n",
    "\n",
    "      accuracy = total_correct / total_samples\n",
    "      print(f'Test Accuracy On best Model: {accuracy:.4f}')"
   ]
  },
  {
   "cell_type": "code",
   "execution_count": 6,
   "metadata": {},
   "outputs": [],
   "source": [
    "class CustomDataset(Dataset):\n",
    "    def __init__(self,root_dir, xml_file,color_file, transform=None ) -> None:\n",
    "        self.root_dir = root_dir\n",
    "        self.color_mapping = self.load_color_mapping(color_file)\n",
    "        self.data = self.parse_xml(xml_file)\n",
    "        self.transform = transform\n",
    "\n",
    "    def load_color_mapping(self,color_file):\n",
    "        color_mapping = {}\n",
    "        with open(color_file,'r') as file:\n",
    "            for line in file:\n",
    "                color_id, color_name = line.strip().split(' ',1)\n",
    "                color_mapping[int(color_id)-1] = color_name\n",
    "        return color_mapping\n",
    "\n",
    "    def parse_xml(self, xml_file):\n",
    "        data = []\n",
    "        with open(xml_file,'r') as file:\n",
    "            tree = ET.fromstring(file.read())\n",
    "            tree = ET.ElementTree(tree)\n",
    "            root = tree.getroot()\n",
    "            for item in root.findall('.//Item'):\n",
    "                image_name = item.get('imageName')\n",
    "                color_id = int(item.get('colorID'))\n",
    "                data.append((image_name,color_id))\n",
    "        return data\n",
    "\n",
    "    def __len__(self):\n",
    "        return len(self.data)\n",
    "\n",
    "\n",
    "    def __getitem__(self, idx):\n",
    "        img_name, color_id = self.data[idx]\n",
    "        img_path = os.path.join(self.root_dir, img_name)\n",
    "        image = Image.open(img_path).convert(\"RGB\")\n",
    "        if self.transform:\n",
    "            image = self.transform(image)\n",
    "        return image, color_id-1\n",
    "\n",
    "\n"
   ]
  },
  {
   "cell_type": "code",
   "execution_count": 7,
   "metadata": {},
   "outputs": [],
   "source": [
    "import copy\n",
    "def train(epochs, model, criterion, optimizer, train_loader, valid_loader, test_loader):\n",
    "  best_model = None\n",
    "  best_acc = 0\n",
    "\n",
    "  # Training loop\n",
    "  for epoch in range(epochs):\n",
    "      model.train()\n",
    "      total_train_correct = 0\n",
    "      total_train_samples = 0\n",
    "      for images, labels in train_loader:\n",
    "          images, labels = images.to(DEVICE), labels.to(DEVICE)\n",
    "          optimizer.zero_grad()\n",
    "          outputs = model(images)\n",
    "          loss = criterion(outputs, labels)\n",
    "          loss.backward()\n",
    "          optimizer.step()\n",
    "\n",
    "          _, predicted = torch.max(outputs, 1)\n",
    "          total_train_correct += (predicted == labels).sum().item()\n",
    "          total_train_samples += labels.size(0)\n",
    "      train_accuracy = total_train_correct / total_train_samples\n",
    "\n",
    "      # Validation loop\n",
    "      model.eval()\n",
    "      with torch.no_grad():\n",
    "          total_correct = 0\n",
    "          total_samples = 0\n",
    "          for images, labels in valid_loader:\n",
    "              images, labels = images.to(DEVICE), labels.to(DEVICE)\n",
    "              outputs = model(images)\n",
    "              _, predicted = torch.max(outputs, 1)\n",
    "              total_correct += (predicted == labels).sum().item()\n",
    "              total_samples += labels.size(0)\n",
    "\n",
    "          accuracy = total_correct / total_samples\n",
    "          print(f'Epoch [{epoch+1}/{epochs}], Training Accuracy: {train_accuracy:.4f}, Validation Accuracy: {accuracy:.4f}')\n",
    "\n",
    "          if (accuracy > best_acc):\n",
    "            print(\"New Best Model with Accuracy: \", accuracy)\n",
    "            best_acc = accuracy\n",
    "            best_model = copy.deepcopy(model)\n",
    "\n",
    "  print(\"Training finished.\")\n",
    "\n",
    "  # Testing the model\n",
    "  model.eval()\n",
    "  with torch.no_grad():\n",
    "      total_correct = 0\n",
    "      total_samples = 0\n",
    "      for images, labels in test_loader:\n",
    "          images, labels = images.to(DEVICE), labels.to(DEVICE)\n",
    "          outputs = best_model(images)\n",
    "          _, predicted = torch.max(outputs, 1)\n",
    "          total_correct += (predicted == labels).sum().item()\n",
    "          total_samples += labels.size(0)\n",
    "\n",
    "      accuracy = total_correct / total_samples\n",
    "      print(f'Test Accuracy On best Model: {accuracy:.4f}')\n",
    "  return best_model"
   ]
  },
  {
   "cell_type": "markdown",
   "metadata": {},
   "source": [
    "# Main"
   ]
  },
  {
   "cell_type": "code",
   "execution_count": 8,
   "metadata": {},
   "outputs": [],
   "source": [
    "transform = transforms.Compose([\n",
    "    transforms.Resize((224,224)),\n",
    "    transforms.ToTensor()\n",
    "])\n",
    "\n",
    "dataset = CustomDataset(FOLDER_DATASET+\"/image_train\",FOLDER_DATASET+\"/train_label.xml\",FOLDER_DATASET+\"/list_color.txt\",transform)\n",
    "\n",
    "train_size = int(0.8*len(dataset))\n",
    "val_size = len(dataset) - train_size\n",
    "train_dataset, valid_dataset = random_split(dataset,[train_size,val_size])\n",
    "\n",
    "\n",
    "\n",
    "test_dataset = CustomDataset(FOLDER_DATASET+\"/image_test\",FOLDER_DATASET+\"/test_label.xml\",FOLDER_DATASET+\"/list_color.txt\",transform)"
   ]
  },
  {
   "cell_type": "code",
   "execution_count": 9,
   "metadata": {},
   "outputs": [],
   "source": [
    "\n",
    "train_loader = DataLoader(train_dataset, batch_size=BATCH_SIZE, shuffle=True)\n",
    "test_loader = DataLoader(test_dataset, batch_size=BATCH_SIZE, shuffle=False)\n",
    "valid_loader = DataLoader(valid_dataset, batch_size=BATCH_SIZE, shuffle=False)\n"
   ]
  },
  {
   "cell_type": "code",
   "execution_count": 10,
   "metadata": {},
   "outputs": [
    {
     "name": "stdout",
     "output_type": "stream",
     "text": [
      "Epoch [1/15], Training Accuracy: 0.8022, Validation Accuracy: 0.8837\n",
      "New Best Model with Accuracy:  0.8837086092715232\n",
      "Epoch [2/15], Training Accuracy: 0.9101, Validation Accuracy: 0.9193\n",
      "New Best Model with Accuracy:  0.9193377483443709\n",
      "Epoch [3/15], Training Accuracy: 0.9408, Validation Accuracy: 0.9170\n",
      "Epoch [4/15], Training Accuracy: 0.9583, Validation Accuracy: 0.9442\n",
      "New Best Model with Accuracy:  0.9442384105960265\n",
      "Epoch [5/15], Training Accuracy: 0.9674, Validation Accuracy: 0.9570\n",
      "New Best Model with Accuracy:  0.956953642384106\n",
      "Epoch [6/15], Training Accuracy: 0.9750, Validation Accuracy: 0.9358\n",
      "Epoch [7/15], Training Accuracy: 0.9787, Validation Accuracy: 0.9644\n",
      "New Best Model with Accuracy:  0.9643708609271523\n",
      "Epoch [8/15], Training Accuracy: 0.9840, Validation Accuracy: 0.9707\n",
      "New Best Model with Accuracy:  0.970728476821192\n",
      "Epoch [9/15], Training Accuracy: 0.9842, Validation Accuracy: 0.9634\n",
      "Epoch [10/15], Training Accuracy: 0.9871, Validation Accuracy: 0.9803\n",
      "New Best Model with Accuracy:  0.9802649006622517\n",
      "Epoch [11/15], Training Accuracy: 0.9897, Validation Accuracy: 0.9796\n",
      "Epoch [12/15], Training Accuracy: 0.9890, Validation Accuracy: 0.9833\n",
      "New Best Model with Accuracy:  0.9833112582781457\n",
      "Epoch [13/15], Training Accuracy: 0.9908, Validation Accuracy: 0.9554\n",
      "Epoch [14/15], Training Accuracy: 0.9917, Validation Accuracy: 0.9581\n",
      "Epoch [15/15], Training Accuracy: 0.9935, Validation Accuracy: 0.9718\n",
      "Training finished.\n",
      "Test Accuracy On best Model: 0.9237\n"
     ]
    }
   ],
   "source": [
    "# Initialize the model, loss function, and optimizer\n",
    "model = se_resnet18(NUM_CLASSES).to(DEVICE)\n",
    "\n",
    "criterion = nn.CrossEntropyLoss()\n",
    "optimizer = optim.Adam(model.parameters(), lr=0.001)\n",
    "\n",
    "\n",
    "best_model = train(EPOCHS,model, criterion, optimizer, train_loader, valid_loader, test_loader)\n",
    "\n"
   ]
  },
  {
   "cell_type": "code",
   "execution_count": 12,
   "metadata": {},
   "outputs": [],
   "source": [
    "torch.save(best_model,\"se_resnet18_veri.pt\")"
   ]
  }
 ],
 "metadata": {
  "interpreter": {
   "hash": "20f0e02868afcec2cfb7ed882391b8d2c8d2015d56e27d356fa29e3b0559f0c5"
  },
  "kernelspec": {
   "display_name": "Python 3.10.13 ('env_usama')",
   "language": "python",
   "name": "python3"
  },
  "language_info": {
   "codemirror_mode": {
    "name": "ipython",
    "version": 3
   },
   "file_extension": ".py",
   "mimetype": "text/x-python",
   "name": "python",
   "nbconvert_exporter": "python",
   "pygments_lexer": "ipython3",
   "version": "3.10.13"
  },
  "orig_nbformat": 4
 },
 "nbformat": 4,
 "nbformat_minor": 2
}
