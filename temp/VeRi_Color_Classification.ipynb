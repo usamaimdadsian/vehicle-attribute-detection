{
  "cells": [
    {
      "cell_type": "code",
      "source": [
        "from google.colab import drive\n",
        "drive.mount('/content/drive')"
      ],
      "metadata": {
        "colab": {
          "base_uri": "https://localhost:8080/"
        },
        "id": "Dt-ioyMw3xf6",
        "outputId": "0ddb33e1-9acc-47d0-bab5-567b01c3d667"
      },
      "execution_count": null,
      "outputs": [
        {
          "output_type": "stream",
          "name": "stdout",
          "text": [
            "Mounted at /content/drive\n"
          ]
        }
      ]
    },
    {
      "cell_type": "code",
      "source": [
        "!cp /content/drive/MyDrive/VeRi.zip ./\n",
        "!unzip VeRi.zip -d ./"
      ],
      "metadata": {
        "id": "PD69E2z337tG"
      },
      "execution_count": null,
      "outputs": []
    },
    {
      "cell_type": "code",
      "execution_count": null,
      "metadata": {
        "id": "G5ApUNzO3o7v"
      },
      "outputs": [],
      "source": [
        "import os, torch\n",
        "from xml.etree import ElementTree as ET\n",
        "from torch.utils.data import Dataset,DataLoader,random_split\n",
        "import torch.nn as nn\n",
        "from torchvision import transforms\n",
        "from PIL import Image\n",
        "import matplotlib.pyplot as plt\n",
        "import torch.optim as optim"
      ]
    },
    {
      "cell_type": "code",
      "execution_count": null,
      "metadata": {
        "id": "X30tnEuL3o76"
      },
      "outputs": [],
      "source": [
        "DEVICE = torch.device(\"cuda\" if torch.cuda.is_available() else \"cpu\")"
      ]
    },
    {
      "cell_type": "markdown",
      "metadata": {
        "id": "qyFgvyA53o79"
      },
      "source": [
        "# Definations"
      ]
    },
    {
      "cell_type": "code",
      "execution_count": null,
      "metadata": {
        "id": "9j1xNR5p3o7_"
      },
      "outputs": [],
      "source": [
        "def test_accuracy(model, test_loader):\n",
        "  with torch.no_grad():\n",
        "      total_correct = 0\n",
        "      total_samples = 0\n",
        "      for images, labels in test_loader:\n",
        "          images, labels = images.to(DEVICE), labels.to(DEVICE)\n",
        "          outputs = model(images)\n",
        "          _, predicted = torch.max(outputs, 1)\n",
        "          total_correct += (predicted == labels).sum().item()\n",
        "          total_samples += labels.size(0)\n",
        "\n",
        "      accuracy = total_correct / total_samples\n",
        "      print(f'Test Accuracy On best Model: {accuracy:.4f}')"
      ]
    },
    {
      "cell_type": "code",
      "execution_count": null,
      "metadata": {
        "id": "tTZ3YHsb3o8C"
      },
      "outputs": [],
      "source": [
        "class CustomDataset(Dataset):\n",
        "    def __init__(self,root_dir, xml_file,color_file, transform=None ) -> None:\n",
        "        self.root_dir = root_dir\n",
        "        self.color_mapping = self.load_color_mapping(color_file)\n",
        "        self.data = self.parse_xml(xml_file)\n",
        "        self.transform = transform\n",
        "\n",
        "    def load_color_mapping(self,color_file):\n",
        "        color_mapping = {}\n",
        "        with open(color_file,'r') as file:\n",
        "            for line in file:\n",
        "                color_id, color_name = line.strip().split(' ',1)\n",
        "                color_mapping[int(color_id)] = color_name\n",
        "        return color_mapping\n",
        "\n",
        "    def parse_xml(self, xml_file):\n",
        "        data = []\n",
        "        with open(xml_file,'r') as file:\n",
        "            tree = ET.fromstring(file.read())\n",
        "            tree = ET.ElementTree(tree)\n",
        "            root = tree.getroot()\n",
        "            for item in root.findall('.//Item'):\n",
        "                image_name = item.get('imageName')\n",
        "                color_id = int(item.get('colorID'))\n",
        "                data.append((image_name,color_id))\n",
        "        return data\n",
        "\n",
        "    def __len__(self):\n",
        "        return len(self.data)\n",
        "\n",
        "\n",
        "    def __getitem__(self, idx):\n",
        "        img_name, color_id = self.data[idx]\n",
        "        img_path = os.path.join(self.root_dir, img_name)\n",
        "        image = Image.open(img_path).convert(\"RGB\")\n",
        "        if self.transform:\n",
        "            image = self.transform(image)\n",
        "        return image, color_id\n",
        "\n",
        "\n"
      ]
    },
    {
      "cell_type": "code",
      "execution_count": null,
      "metadata": {
        "id": "1SNf6IRo3o8D"
      },
      "outputs": [],
      "source": [
        "import copy\n",
        "def train(epochs, model, criterion, optimizer, train_loader, valid_loader, test_loader):\n",
        "  best_model = None\n",
        "  best_acc = 0\n",
        "\n",
        "  # Training loop\n",
        "  for epoch in range(epochs):\n",
        "      model.train()\n",
        "      total_train_correct = 0\n",
        "      total_train_samples = 0\n",
        "      for images, labels in train_loader:\n",
        "          images, labels = images.to(DEVICE), labels.to(DEVICE)\n",
        "          optimizer.zero_grad()\n",
        "          outputs = model(images)\n",
        "          loss = criterion(outputs, labels)\n",
        "          loss.backward()\n",
        "          optimizer.step()\n",
        "\n",
        "          _, predicted = torch.max(outputs, 1)\n",
        "          total_train_correct += (predicted == labels).sum().item()\n",
        "          total_train_samples += labels.size(0)\n",
        "      train_accuracy = total_train_correct / total_train_samples\n",
        "\n",
        "      # Validation loop\n",
        "      model.eval()\n",
        "      with torch.no_grad():\n",
        "          total_correct = 0\n",
        "          total_samples = 0\n",
        "          for images, labels in valid_loader:\n",
        "              images, labels = images.to(DEVICE), labels.to(DEVICE)\n",
        "              outputs = model(images)\n",
        "              _, predicted = torch.max(outputs, 1)\n",
        "              total_correct += (predicted == labels).sum().item()\n",
        "              total_samples += labels.size(0)\n",
        "\n",
        "          accuracy = total_correct / total_samples\n",
        "          print(f'Epoch [{epoch+1}/{epochs}], Training Accuracy: {train_accuracy:.4f}, Validation Accuracy: {accuracy:.4f}')\n",
        "\n",
        "          if (accuracy > best_acc):\n",
        "            print(\"New Best Model with Accuracy: \", accuracy)\n",
        "            best_acc = accuracy\n",
        "            best_model = copy.deepcopy(model)\n",
        "\n",
        "  print(\"Training finished.\")\n",
        "\n",
        "  # Testing the model\n",
        "  model.eval()\n",
        "  with torch.no_grad():\n",
        "      total_correct = 0\n",
        "      total_samples = 0\n",
        "      for images, labels in test_loader:\n",
        "          images, labels = images.to(DEVICE), labels.to(DEVICE)\n",
        "          outputs = best_model(images)\n",
        "          _, predicted = torch.max(outputs, 1)\n",
        "          total_correct += (predicted == labels).sum().item()\n",
        "          total_samples += labels.size(0)\n",
        "\n",
        "      accuracy = total_correct / total_samples\n",
        "      print(f'Test Accuracy On best Model: {accuracy:.4f}')\n",
        "  return best_model"
      ]
    },
    {
      "cell_type": "markdown",
      "metadata": {
        "id": "8T7cYW_K3o8F"
      },
      "source": [
        "## Model"
      ]
    },
    {
      "cell_type": "code",
      "execution_count": null,
      "metadata": {
        "id": "xYMRUaIB3o8H"
      },
      "outputs": [],
      "source": [
        "class VehicleColorRecognitionModel(nn.Module):\n",
        "    def __init__(self,Load_VIS_URL=None):\n",
        "        super(VehicleColorRecognitionModel,self).__init__()\n",
        "\n",
        "        # ===============================  top ================================\n",
        "        # first top convolution layer\n",
        "        self.top_conv1 = nn.Sequential(\n",
        "\n",
        "            # 1-1 conv layer\n",
        "            nn.Conv2d(3, 48, kernel_size=(11,11), stride=(4,4)),\n",
        "            nn.ReLU(),\n",
        "            nn.BatchNorm2d(48),\n",
        "            nn.MaxPool2d(kernel_size=3, stride=2)\n",
        "        )\n",
        "\n",
        "\n",
        "        # first top convolution layer    after split\n",
        "        self.top_top_conv2 = nn.Sequential(\n",
        "\n",
        "            # 1-1 conv layer\n",
        "            nn.Conv2d(24, 64, kernel_size=(3,3), stride=(1,1),padding=1),\n",
        "            nn.ReLU(),\n",
        "            nn.BatchNorm2d(64),\n",
        "            nn.MaxPool2d(kernel_size=3, stride=2)\n",
        "        )\n",
        "\n",
        "        self.top_bot_conv2 = nn.Sequential(\n",
        "\n",
        "            # 1-1 conv layer\n",
        "            nn.Conv2d(24, 64, kernel_size=(3,3), stride=(1,1),padding=1),\n",
        "            nn.ReLU(),\n",
        "            nn.BatchNorm2d(64),\n",
        "            nn.MaxPool2d(kernel_size=3, stride=2)\n",
        "        )\n",
        "\n",
        "\n",
        "        #  need a concat\n",
        "\n",
        "        # after concat\n",
        "        self.top_conv3 = nn.Sequential(\n",
        "            # 1-1 conv layer\n",
        "            nn.Conv2d(128, 192, kernel_size=(3,3), stride=(1,1),padding=1),\n",
        "            nn.ReLU()\n",
        "        )\n",
        "\n",
        "        # fourth top convolution layer\n",
        "        # split feature map by half\n",
        "        self.top_top_conv4 = nn.Sequential(\n",
        "            # 1-1 conv layer\n",
        "            nn.Conv2d(96, 96, kernel_size=(3,3), stride=(1,1),padding=1),\n",
        "            nn.ReLU()\n",
        "        )\n",
        "\n",
        "        self.top_bot_conv4 = nn.Sequential(\n",
        "            # 1-1 conv layer\n",
        "            nn.Conv2d(96, 96, kernel_size=(3,3), stride=(1,1),padding=1),\n",
        "            nn.ReLU()\n",
        "        )\n",
        "\n",
        "\n",
        "        # fifth top convolution layer\n",
        "        self.top_top_conv5 = nn.Sequential(\n",
        "            # 1-1 conv layer\n",
        "            nn.Conv2d(96, 64, kernel_size=(3,3), stride=(1,1),padding=1),\n",
        "            nn.ReLU(),\n",
        "            nn.MaxPool2d(kernel_size=3, stride=2)\n",
        "        )\n",
        "        self.top_bot_conv5 = nn.Sequential(\n",
        "            # 1-1 conv layer\n",
        "            nn.Conv2d(96, 64, kernel_size=(3,3), stride=(1,1),padding=1),\n",
        "            nn.ReLU(),\n",
        "            nn.MaxPool2d(kernel_size=3, stride=2)\n",
        "        )\n",
        "\n",
        "#        # ===============================  bottom ================================\n",
        "\n",
        "\n",
        "#         # first bottom convolution layer\n",
        "        self.bottom_conv1 = nn.Sequential(\n",
        "\n",
        "            # 1-1 conv layer\n",
        "            nn.Conv2d(3, 48, kernel_size=(11,11), stride=(4,4)),\n",
        "            nn.ReLU(),\n",
        "            nn.BatchNorm2d(48),\n",
        "            nn.MaxPool2d(kernel_size=3, stride=2)\n",
        "        )\n",
        "\n",
        "\n",
        "        # first top convolution layer    after split\n",
        "        self.bottom_top_conv2 = nn.Sequential(\n",
        "\n",
        "            # 1-1 conv layer\n",
        "            nn.Conv2d(24, 64, kernel_size=(3,3), stride=(1,1),padding=1),\n",
        "            nn.ReLU(),\n",
        "            nn.BatchNorm2d(64),\n",
        "            nn.MaxPool2d(kernel_size=3, stride=2)\n",
        "        )\n",
        "\n",
        "        self.bottom_bot_conv2 = nn.Sequential(\n",
        "\n",
        "            # 1-1 conv layer\n",
        "            nn.Conv2d(24, 64, kernel_size=(3,3), stride=(1,1),padding=1),\n",
        "            nn.ReLU(),\n",
        "            nn.BatchNorm2d(64),\n",
        "            nn.MaxPool2d(kernel_size=3, stride=2)\n",
        "        )\n",
        "\n",
        "\n",
        "        #  need a concat\n",
        "\n",
        "        # after concat\n",
        "        self.bottom_conv3 = nn.Sequential(\n",
        "            # 1-1 conv layer\n",
        "            nn.Conv2d(128, 192, kernel_size=(3,3), stride=(1,1),padding=1),\n",
        "            nn.ReLU()\n",
        "        )\n",
        "\n",
        "        # fourth top convolution layer\n",
        "        # split feature map by half\n",
        "        self.bottom_top_conv4 = nn.Sequential(\n",
        "            # 1-1 conv layer\n",
        "            nn.Conv2d(96, 96, kernel_size=(3,3), stride=(1,1),padding=1),\n",
        "            nn.ReLU()\n",
        "        )\n",
        "\n",
        "        self.bottom_bot_conv4 = nn.Sequential(\n",
        "            # 1-1 conv layer\n",
        "            nn.Conv2d(96, 96, kernel_size=(3,3), stride=(1,1),padding=1),\n",
        "            nn.ReLU()\n",
        "        )\n",
        "\n",
        "\n",
        "        # fifth top convolution layer\n",
        "        self.bottom_top_conv5 = nn.Sequential(\n",
        "            # 1-1 conv layer\n",
        "            nn.Conv2d(96, 64, kernel_size=(3,3), stride=(1,1),padding=1),\n",
        "            nn.ReLU(),\n",
        "            nn.MaxPool2d(kernel_size=3, stride=2)\n",
        "        )\n",
        "        self.bottom_bot_conv5 = nn.Sequential(\n",
        "            # 1-1 conv layer\n",
        "            nn.Conv2d(96, 64, kernel_size=(3,3), stride=(1,1),padding=1),\n",
        "            nn.ReLU(),\n",
        "            nn.MaxPool2d(kernel_size=3, stride=2)\n",
        "        )\n",
        "\n",
        "        # Fully-connected layer\n",
        "        self.classifier = nn.Sequential(\n",
        "            nn.Linear(5*5*64*4, 4096),\n",
        "            nn.ReLU(),\n",
        "            nn.Dropout(0.7),\n",
        "            nn.Linear(4096, 4096),\n",
        "            nn.ReLU(),\n",
        "            nn.Dropout(0.6),\n",
        "            nn.Linear(4096, 15)\n",
        "        )\n",
        "\n",
        "    def forward(self,x):\n",
        "        x_top = self.top_conv1(x)\n",
        "        # print(x_top.shape)\n",
        "\n",
        "        x_top_conv = torch.split(x_top, 24, 1)\n",
        "\n",
        "        x_top_top_conv2 = self.top_top_conv2(x_top_conv[0])\n",
        "        x_top_bot_conv2 = self.top_bot_conv2(x_top_conv[1])\n",
        "\n",
        "        x_top_cat1 = torch.cat([x_top_top_conv2,x_top_bot_conv2],1)\n",
        "\n",
        "        x_top_conv3 = self.top_conv3(x_top_cat1)\n",
        "\n",
        "        x_top_conv3 = torch.split(x_top_conv3, 96, 1)\n",
        "\n",
        "        x_top_top_conv4 = self.top_top_conv4(x_top_conv3[0])\n",
        "        x_top_bot_conv4 = self.top_bot_conv4(x_top_conv3[1])\n",
        "\n",
        "        x_top_top_conv5 = self.top_top_conv5(x_top_top_conv4)\n",
        "        x_top_bot_conv5 = self.top_bot_conv5(x_top_bot_conv4)\n",
        "\n",
        "        x_bottom = self.bottom_conv1(x)\n",
        "\n",
        "        x_bottom_conv = torch.split(x_bottom, 24, 1)\n",
        "\n",
        "        x_bottom_top_conv2 = self.bottom_top_conv2(x_bottom_conv[0])\n",
        "        x_bottom_bot_conv2 = self.bottom_bot_conv2(x_bottom_conv[1])\n",
        "\n",
        "        x_bottom_cat1 = torch.cat([x_bottom_top_conv2,x_bottom_bot_conv2],1)\n",
        "\n",
        "        x_bottom_conv3 = self.bottom_conv3(x_bottom_cat1)\n",
        "\n",
        "        x_bottom_conv3 = torch.split(x_bottom_conv3, 96, 1)\n",
        "\n",
        "        x_bottom_top_conv4 = self.bottom_top_conv4(x_bottom_conv3[0])\n",
        "        x_bottom_bot_conv4 = self.bottom_bot_conv4(x_bottom_conv3[1])\n",
        "\n",
        "        x_bottom_top_conv5 = self.bottom_top_conv5(x_bottom_top_conv4)\n",
        "        x_bottom_bot_conv5 = self.bottom_bot_conv5(x_bottom_bot_conv4)\n",
        "\n",
        "        x_cat = torch.cat([x_top_top_conv5,x_top_bot_conv5,x_bottom_top_conv5,x_bottom_bot_conv5],1)\n",
        "\n",
        "\n",
        "        flatten = x_cat.view(x_cat.size(0), -1)\n",
        "\n",
        "\n",
        "        output = self.classifier(flatten)\n",
        "\n",
        "        #output = F.softmax(output)\n",
        "\n",
        "\n",
        "        return output\n",
        "\n"
      ]
    },
    {
      "cell_type": "markdown",
      "metadata": {
        "id": "3HAK504W3o8M"
      },
      "source": [
        "# Main"
      ]
    },
    {
      "cell_type": "code",
      "execution_count": null,
      "metadata": {
        "id": "hl70_a4m3o8P"
      },
      "outputs": [],
      "source": [
        "transform = transforms.Compose([\n",
        "    transforms.Resize((224,224)),\n",
        "    transforms.ToTensor()\n",
        "])\n",
        "\n",
        "dataset = CustomDataset(\"VeRi/image_train\",\"VeRi/train_label.xml\",\"VeRi/list_color.txt\",transform)\n",
        "\n",
        "train_size = int(0.8*len(dataset))\n",
        "val_size = len(dataset) - train_size\n",
        "train_dataset, valid_dataset = random_split(dataset,[train_size,val_size])\n",
        "\n",
        "\n",
        "\n",
        "test_dataset = CustomDataset(\"VeRi/image_test\",\"VeRi/test_label.xml\",\"VeRi/list_color.txt\",transform)"
      ]
    },
    {
      "cell_type": "code",
      "execution_count": null,
      "metadata": {
        "id": "n0X2oSWW3o8R"
      },
      "outputs": [],
      "source": [
        "BATCH_SIZE = 32\n",
        "NUM_CLASSES = 10\n",
        "EPOCHS = 10\n",
        "\n",
        "train_loader = DataLoader(train_dataset, batch_size=BATCH_SIZE, shuffle=True)\n",
        "test_loader = DataLoader(test_dataset, batch_size=BATCH_SIZE, shuffle=False)\n",
        "valid_loader = DataLoader(valid_dataset, batch_size=BATCH_SIZE, shuffle=False)\n"
      ]
    },
    {
      "cell_type": "code",
      "execution_count": null,
      "metadata": {
        "colab": {
          "base_uri": "https://localhost:8080/"
        },
        "id": "88XzPD5I3o8S",
        "outputId": "147de3d5-bc5b-4740-bf66-c720b8745f1a"
      },
      "outputs": [
        {
          "output_type": "stream",
          "name": "stdout",
          "text": [
            "Epoch [1/10], Training Accuracy: 0.6860, Validation Accuracy: 0.7964\n",
            "New Best Model with Accuracy:  0.7964238410596026\n",
            "Epoch [2/10], Training Accuracy: 0.8106, Validation Accuracy: 0.8321\n",
            "New Best Model with Accuracy:  0.8320529801324503\n",
            "Epoch [3/10], Training Accuracy: 0.8402, Validation Accuracy: 0.8566\n",
            "New Best Model with Accuracy:  0.8565562913907285\n",
            "Epoch [4/10], Training Accuracy: 0.8571, Validation Accuracy: 0.7852\n",
            "Epoch [5/10], Training Accuracy: 0.8673, Validation Accuracy: 0.8181\n",
            "Epoch [6/10], Training Accuracy: 0.8820, Validation Accuracy: 0.8789\n",
            "New Best Model with Accuracy:  0.8789403973509934\n",
            "Epoch [7/10], Training Accuracy: 0.8819, Validation Accuracy: 0.8992\n",
            "New Best Model with Accuracy:  0.899205298013245\n",
            "Epoch [8/10], Training Accuracy: 0.8987, Validation Accuracy: 0.8812\n",
            "Epoch [9/10], Training Accuracy: 0.8969, Validation Accuracy: 0.8991\n",
            "Epoch [10/10], Training Accuracy: 0.9009, Validation Accuracy: 0.9053\n",
            "New Best Model with Accuracy:  0.9052980132450331\n",
            "Training finished.\n",
            "Test Accuracy On best Model: 0.8730\n"
          ]
        }
      ],
      "source": [
        "# Initialize the model, loss function, and optimizer\n",
        "model = VehicleColorRecognitionModel().to(DEVICE)\n",
        "criterion = nn.CrossEntropyLoss()\n",
        "optimizer = optim.Adam(model.parameters(), lr=0.001)\n",
        "\n",
        "\n",
        "best_model = train(EPOCHS,model, criterion, optimizer, train_loader, valid_loader, test_loader)\n",
        "\n"
      ]
    },
    {
      "cell_type": "code",
      "source": [
        "torch.save(best_model, \"vehicle_veri_model_224x224.pt\")"
      ],
      "metadata": {
        "id": "Ls_OvkpH-Ahz"
      },
      "execution_count": null,
      "outputs": []
    },
    {
      "cell_type": "code",
      "source": [
        "!mv /content/vehicle_veri_model_224x224.pt /content/drive/MyDrive/Thesis_UsamaImdad/"
      ],
      "metadata": {
        "id": "QkZNMuIf-K_k"
      },
      "execution_count": null,
      "outputs": []
    }
  ],
  "metadata": {
    "kernelspec": {
      "display_name": "Python 3",
      "name": "python3"
    },
    "language_info": {
      "codemirror_mode": {
        "name": "ipython",
        "version": 3
      },
      "file_extension": ".py",
      "mimetype": "text/x-python",
      "name": "python",
      "nbconvert_exporter": "python",
      "pygments_lexer": "ipython3",
      "version": "3.11.6"
    },
    "colab": {
      "provenance": [],
      "gpuType": "T4"
    },
    "accelerator": "GPU"
  },
  "nbformat": 4,
  "nbformat_minor": 0
}