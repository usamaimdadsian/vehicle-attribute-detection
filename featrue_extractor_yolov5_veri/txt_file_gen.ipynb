{
 "cells": [
  {
   "cell_type": "code",
   "execution_count": null,
   "metadata": {},
   "outputs": [],
   "source": [
    "import os\n",
    "import pandas as pd"
   ]
  },
  {
   "cell_type": "code",
   "execution_count": 2,
   "metadata": {},
   "outputs": [],
   "source": [
    "color_mapping = {}\n",
    "image_folder = \"/mnt/linux/stallionSpace/itu/semester3/thesis1/codes/vehicle_color_recognition_old/VeRi\"  \n",
    "color_file = os.path.join(image_folder,\"list_color.txt\")\n",
    "with open(color_file,'r') as file:\n",
    "    for line in file:\n",
    "        color_id, color_name = line.strip().split(' ',1)\n",
    "        color_mapping[int(color_id)-1] = color_name\n",
    "\n",
    "reverse_color_mapping = {}\n",
    "for key in color_mapping.keys():\n",
    "    reverse_color_mapping[color_mapping[key]] = key"
   ]
  },
  {
   "cell_type": "code",
   "execution_count": 5,
   "metadata": {},
   "outputs": [],
   "source": [
    "\n",
    "df = pd.read_csv(\"VeRiAttributesTrainAll.csv\")"
   ]
  },
  {
   "cell_type": "code",
   "execution_count": 7,
   "metadata": {},
   "outputs": [],
   "source": [
    "\n",
    "for i in range(len(df)):\n",
    "    item = df.iloc[i]\n",
    "\n",
    "    path = item[\"path\"].replace(\"/content/VeRi/\",\"\")\n",
    "    x_center, y_center, width, height = item['xcenter'], item['ycenter'], item['width'], item['height']\n",
    "\n",
    "    # image_name = path.copy()\n",
    "    image_name = path.replace(\".jpg\",\".txt\")\n",
    "    target_path = os.path.join(\"VeRi_txt\",image_name)\n",
    "\n",
    "    with open(target_path, \"w\") as f:\n",
    "        f.write(f\"1 {x_center} {y_center} {width} {height} {reverse_color_mapping[item['color']]} 1 1 1 1 1 1\")        \n"
   ]
  },
  {
   "cell_type": "code",
   "execution_count": 8,
   "metadata": {},
   "outputs": [],
   "source": [
    "\n",
    "df = pd.read_csv(\"VeRiAttributesTestAll.csv\")\n",
    "for i in range(len(df)):\n",
    "    item = df.iloc[i]\n",
    "\n",
    "    path = item[\"path\"].replace(\"/content/VeRi/\",\"\")\n",
    "    x_center, y_center, width, height = item['xcenter'], item['ycenter'], item['width'], item['height']\n",
    "\n",
    "    # image_name = path.copy()\n",
    "    image_name = path.replace(\".jpg\",\".txt\")\n",
    "    target_path = os.path.join(\"VeRi_txt\",image_name)\n",
    "\n",
    "    with open(target_path, \"w\") as f:\n",
    "        f.write(f\"1 {x_center} {y_center} {width} {height} {reverse_color_mapping[item['color']]} 1 1 1 1 1 1\")        \n"
   ]
  }
 ],
 "metadata": {
  "kernelspec": {
   "display_name": "311_env",
   "language": "python",
   "name": "python3"
  },
  "language_info": {
   "codemirror_mode": {
    "name": "ipython",
    "version": 3
   },
   "file_extension": ".py",
   "mimetype": "text/x-python",
   "name": "python",
   "nbconvert_exporter": "python",
   "pygments_lexer": "ipython3",
   "version": "3.11.6"
  }
 },
 "nbformat": 4,
 "nbformat_minor": 2
}
